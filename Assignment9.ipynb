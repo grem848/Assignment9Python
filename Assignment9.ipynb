{
 "cells": [
  {
   "cell_type": "markdown",
   "metadata": {},
   "source": [
    "# Assignment 9 - Group Good Awareness\n",
    "---\n",
    "Built with face_recognition from https://github.com/ageitgey/face_recognition\n",
    "\n",
    "## Dataset: \n",
    "\n",
    "---\n",
    "\n",
    "\n",
    "### Question 1:\n",
    "\n",
    "### Question 2:\n",
    "\n",
    "### Question 3:\n",
    "\n",
    "---\n",
    "\n",
    "### Review Question 1:\n",
    "\n",
    "### Review Question 2:\n",
    "\n",
    "### Review Question 3:"
   ]
  }
 ],
 "metadata": {
  "kernelspec": {
   "display_name": "Python 3",
   "language": "python",
   "name": "python3"
  },
  "language_info": {
   "codemirror_mode": {
    "name": "ipython",
    "version": 3
   },
   "file_extension": ".py",
   "mimetype": "text/x-python",
   "name": "python",
   "nbconvert_exporter": "python",
   "pygments_lexer": "ipython3",
   "version": "3.7.1"
  }
 },
 "nbformat": 4,
 "nbformat_minor": 2
}
